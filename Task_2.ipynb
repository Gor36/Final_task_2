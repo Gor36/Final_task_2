{
 "cells": [
  {
   "cell_type": "code",
   "execution_count": 6,
   "metadata": {},
   "outputs": [],
   "source": [
    "import pandas as pd\n",
    "import plotly\n",
    "import plotly.express as px\n",
    "import matplotlib.pyplot as plt\n",
    "import seaborn as sns"
   ]
  },
  {
   "cell_type": "code",
   "execution_count": 46,
   "metadata": {},
   "outputs": [
    {
     "name": "stdout",
     "output_type": "stream",
     "text": [
      "<class 'pandas.core.frame.DataFrame'>\n",
      "RangeIndex: 10000 entries, 0 to 9999\n",
      "Data columns (total 14 columns):\n",
      " #   Column           Non-Null Count  Dtype  \n",
      "---  ------           --------------  -----  \n",
      " 0   RowNumber        10000 non-null  int64  \n",
      " 1   CustomerId       10000 non-null  int64  \n",
      " 2   Surname          10000 non-null  object \n",
      " 3   CreditScore      10000 non-null  int64  \n",
      " 4   Geography        10000 non-null  object \n",
      " 5   Gender           10000 non-null  object \n",
      " 6   Age              10000 non-null  int64  \n",
      " 7   Tenure           10000 non-null  int64  \n",
      " 8   Balance          10000 non-null  float64\n",
      " 9   NumOfProducts    10000 non-null  int64  \n",
      " 10  HasCrCard        10000 non-null  int64  \n",
      " 11  IsActiveMember   10000 non-null  int64  \n",
      " 12  EstimatedSalary  10000 non-null  float64\n",
      " 13  Exited           10000 non-null  int64  \n",
      "dtypes: float64(2), int64(9), object(3)\n",
      "memory usage: 1.1+ MB\n"
     ]
    }
   ],
   "source": [
    "churn_data.info()"
   ]
  },
  {
   "cell_type": "code",
   "execution_count": 44,
   "metadata": {},
   "outputs": [],
   "source": [
    "churn_data = pd.read_csv('data/churn.csv')\n",
    "churn_data.head(15)\n",
    "churn_data_copy = churn_data.copy()"
   ]
  },
  {
   "attachments": {},
   "cell_type": "markdown",
   "metadata": {},
   "source": [
    "1) RowNumber — номер строки таблицы (это лишняя информация, поэтому можете сразу от неё избавиться)\n",
    "2) CustomerId — идентификатор клиента\n",
    "3) Surname — фамилия клиента\n",
    "4) CreditScore — кредитный рейтинг клиента (чем он выше, тем больше клиент брал кредитов и возвращал их)\n",
    "5) Geography — страна клиента (банк международный)\n",
    "6) Gender — пол клиента\n",
    "7) Age — возраст клиента\n",
    "8) Tenure — сколько лет клиент пользуется услугами банка\n",
    "9) Balance — баланс на счетах клиента в банке\n",
    "10) NumOfProducts — количество услуг банка, которые приобрёл клиент\n",
    "11) HasCrCard — есть ли у клиента кредитная карта (1 — да, 0 — нет)\n",
    "12) IsActiveMember — есть ли у клиента статус активного клиента банка (1 — да, 0 — нет)\n",
    "13) EstimatedSalary — предполагаемая заработная плата клиента\n",
    "14) Exited — статус лояльности (1 — ушедший клиент, 0 — лояльный клиент)"
   ]
  },
  {
   "attachments": {},
   "cell_type": "markdown",
   "metadata": {},
   "source": [
    "### <center>***Фронт работы***\n",
    "\n",
    "9.1. Каково соотношение ушедших и лояльных клиентов? Покажите это на графике и дайте комментарий по соотношению.\n",
    "\n",
    "9.2. Постройте график, показывающий распределение баланса пользователей, у которых на счету больше 2 500 долларов. Опишите распределение и сделайте выводы.\n",
    "\n",
    "9.3. Посмотрите на распределение баланса клиента в разрезе признака оттока. Как различаются суммы на накопительном счёте ушедших и лояльных клиентов? Подумайте и напишите, с чем это может быть связано, что может не устраивать ушедших клиентов в банке.\n",
    "\n",
    "9.4. Посмотрите на распределение возраста в разрезе признака оттока. В какой группе больше потенциальных выбросов? На какую возрастную категорию клиентов стоит обратить внимание банку?\n",
    "\n",
    "9.5. Постройте график, который показывает взаимосвязь кредитного рейтинга клиента и его предполагаемой зарплаты. Добавьте расцветку по признаку оттока клиентов. Какова взаимосвязь между признаками? Если не видите явной взаимосвязи, укажите это.\n",
    "\n",
    "9.6. Кто чаще уходит, мужчины или женщины? Постройте график, который иллюстрирует это.\n",
    "\n",
    "Подсказка\n",
    "9.7. Как отток клиентов зависит от числа приобретённых у банка услуг? Для ответа на этот вопрос постройте многоуровневую столбчатую диаграмму.\n",
    "\n",
    "9.8. Как влияет наличие статуса активного клиента на отток клиентов? Постройте диаграмму, иллюстрирующую это. Что бы вы предложили банку, чтобы уменьшить отток клиентов среди неактивных?\n",
    "\n",
    "9.9. В какой стране доля ушедших клиентов больше? Постройте тепловую картограмму, которая покажет это соотношение на карте мира. Предположите, с чем это может быть связано.\n",
    "\n",
    "9.10. Переведите числовой признак CreditScore в категориальный. Для этого воспользуйтесь функцией get_credit_score_cat(), которая приведена ниже. Примените её к столбцу CreditScore и создайте новый признак CreditScoreCat — категории кредитного рейтинга.\n",
    "\n",
    "def get_credit_score_cat(credit_score):\n",
    "    if credit_score >= 300 and credit_score < 500:\n",
    "        return \"Very_Poor\"\n",
    "    elif credit_score >= 500 and credit_score < 601:\n",
    "        return \"Poor\"\n",
    "    elif credit_score >= 601 and credit_score < 661:\n",
    "        return \"Fair\"\n",
    "    elif credit_score >= 661 and credit_score < 781:\n",
    "        return \"Good\"\n",
    "    elif credit_score >= 781 and credit_score < 851:\n",
    "        return \"Excellent\"\n",
    "    elif credit_score >= 851:\n",
    "        return \"Top\"\n",
    "    elif credit_score < 300:\n",
    "        return \"Deep\"\n",
    "Постройте сводную таблицу, строками которой являются категории кредитного рейтинга (CreditScoreCat), а столбцами — количество лет, в течение которых клиент пользуется услугами банка (Tenure). В ячейках сводной таблицы должно находиться среднее по признаку оттока (Exited) — доля ушедших пользователей.\n",
    "\n",
    "На основе полученной сводной таблицы постройте тепловую карту с аннотацией. Найдите на тепловой карте категории клиентов, которые уходят чаще всего."
   ]
  },
  {
   "attachments": {},
   "cell_type": "markdown",
   "metadata": {},
   "source": [
    "9.1. Каково соотношение ушедших и лояльных клиентов? Покажите это на графике и дайте комментарий по соотношению.\n",
    "\n",
    "Для наглядного соотношения ушедших и лояльных клиентов необходимо построить \n",
    "круговую диаграмму"
   ]
  },
  {
   "cell_type": "code",
   "execution_count": 5,
   "metadata": {},
   "outputs": [
    {
     "data": {
      "image/png": "[encoded data removed]",
      "text/plain": [
       "<Figure size 500x500 with 1 Axes>"
      ]
     },
     "metadata": {},
     "output_type": "display_data"
    }
   ],
   "source": [
    "#Создаём переменну с котегореальным признаком ушедших(лояльных клиентов)\n",
    "exited = churn_data['Exited']\n",
    "\n",
    "#создаём пустой словарь\n",
    "ratio_dict = {}\n",
    "#создаём счётчики для ушедхих клиентов \n",
    "count_0 = 0\n",
    "#создаём счётчики для лояльных клиентов\n",
    "count_1 = 0\n",
    "\n",
    "#Создаём цикл в котором будем считать ушедших клиентов и лояльных клиентов\n",
    "for i in exited:\n",
    "    if i == 0:\n",
    "        count_0 +=1\n",
    "    if i == 1:\n",
    "        count_1 +=1\n",
    "#помещаем в словарь полученные результаты\n",
    "ratio_dict = {'лояльных клиентов': count_0,\n",
    "    'ушедших клиентов' : count_1}\n",
    "#преобразуем в формат Series           \n",
    "ratio = pd.Series(ratio_dict).sort_values(ascending=False)\n",
    "\n",
    "\n",
    "fig = plt.figure(figsize=(5, 5))\n",
    "exefer = fig.add_axes([0, 0, 1, 1])#add_axes() добавляется координатная плоскость с списком из координат.\n",
    "#В нашем случае она начинается в левом нижнем углу без отступов (координаты 0, 0) и занимает всё отведённое место в области (100%, ширина и высота равны 1)\n",
    "exefer.pie(\n",
    "    ratio,\n",
    "    labels=ratio.index,\n",
    "    autopct='%.1f%%',\n",
    ");\n"
   ]
  },
  {
   "attachments": {},
   "cell_type": "markdown",
   "metadata": {},
   "source": [
    "Из данного графика видно что соотношение ушедших клиентов(20,4%) и лояльных клиентов(79,6%) равна 4. То есть лояльных клиентов почти в 4 раза больше чем ушедших клиентов"
   ]
  },
  {
   "attachments": {},
   "cell_type": "markdown",
   "metadata": {},
   "source": [
    "9.2. Постройте график, показывающий распределение баланса пользователей, у которых на счету больше 2 500 долларов. Опишите распределение и сделайте выводы.\n",
    "\n",
    "Для наглядного анализа необходимо построить boxplot"
   ]
  },
  {
   "cell_type": "code",
   "execution_count": 42,
   "metadata": {},
   "outputs": [
    {
     "data": {
      "image/png": "[encoded data removed]",
      "text/plain": [
       "<Figure size 640x480 with 1 Axes>"
      ]
     },
     "metadata": {},
     "output_type": "display_data"
    }
   ],
   "source": [
    "#churn_data['Balance'] = churn_data['Balance'].astype('int32') заменяем тип данных Balance с odject на int32 чтобы можно было прогнать через цикл\n",
    "\n",
    "\n",
    "#создаем переменную чтобы прогнать через цикл\n",
    "balance1 = churn_data['Balance']\n",
    "\n",
    "# создаём список чтобы внести тудаи результат цикла\n",
    "balance1_list = []\n",
    "\n",
    "#создаём цикл для выделения из общего баланса, баланс свыше 2500 долларов\n",
    "for i in balance1:\n",
    "    if i > 2500:\n",
    "        balance1_list.append(i)\n",
    "#Заменяю в копированном датафрейме(чтобы не испортить основной) данные о балансах так чтобы в датафрейме хранились лишь балансы свыше 2500 дол.\n",
    "churn_data_copy['Balance'] = pd.DataFrame({\n",
    "    'Balance':balance1_list,\n",
    "})\n",
    "#строю коробчатую диаграмму\n",
    "churn_data['Balance'].plot(kind='box');\n"
   ]
  },
  {
   "attachments": {},
   "cell_type": "markdown",
   "metadata": {},
   "source": [
    "На графике видно, что наша медиана находиться на 125000,это значит что в среднем у клиентов банка на счету в банке находится 125000 долларов,\n",
    "усы обозначают диапазон данных по балансу клиента в банке, он колеблится от примерно 40000 до 190000 долларов. Выбросы показывают, что в наших данных существую клиенты у который не баланс аномален по сравнению с основной группой клиентов, присутсвутсвующие выбросыне сильно аномальны\n",
    "Вывод:В среднем баланс клиентов составляет 125000 долларов, и в среднем баланс клиентов колеблится от 40000 до 190000"
   ]
  },
  {
   "attachments": {},
   "cell_type": "markdown",
   "metadata": {},
   "source": [
    "9.3. Посмотрите на распределение баланса клиента в разрезе признака оттока. Как различаются суммы на накопительном счёте ушедших и лояльных клиентов? Подумайте и напишите, с чем это может быть связано, что может не устраивать ушедших клиентов в банке.\n",
    "\n",
    "Для наглядного анализа необходимо построить диаграмму распределения, необходимость заключается в определении взаимосвязей"
   ]
  }
 ],
 "metadata": {
  "kernelspec": {
   "display_name": "Python 3",
   "language": "python",
   "name": "python3"
  },
  "language_info": {
   "codemirror_mode": {
    "name": "ipython",
    "version": 3
   },
   "file_extension": ".py",
   "mimetype": "text/x-python",
   "name": "python",
   "nbconvert_exporter": "python",
   "pygments_lexer": "ipython3",
   "version": "3.8.9"
  },
  "orig_nbformat": 4,
  "vscode": {
   "interpreter": {
    "hash": "9650cb4e16cdd4a8e8e2d128bf38d875813998db22a3c986335f89e0cb4d7bb2"
   }
  }
 },
 "nbformat": 4,
 "nbformat_minor": 2
}
